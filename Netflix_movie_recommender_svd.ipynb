{
 "cells": [
  {
   "cell_type": "code",
   "execution_count": 1,
   "id": "bd4027b0",
   "metadata": {},
   "outputs": [],
   "source": [
    "import numpy as np \n",
    "import pandas as pd\n",
    "import matplotlib.pyplot as plt\n",
    "%matplotlib inline "
   ]
  },
  {
   "cell_type": "code",
   "execution_count": 2,
   "id": "81068f90",
   "metadata": {},
   "outputs": [
    {
     "data": {
      "text/html": [
       "<div>\n",
       "<style scoped>\n",
       "    .dataframe tbody tr th:only-of-type {\n",
       "        vertical-align: middle;\n",
       "    }\n",
       "\n",
       "    .dataframe tbody tr th {\n",
       "        vertical-align: top;\n",
       "    }\n",
       "\n",
       "    .dataframe thead th {\n",
       "        text-align: right;\n",
       "    }\n",
       "</style>\n",
       "<table border=\"1\" class=\"dataframe\">\n",
       "  <thead>\n",
       "    <tr style=\"text-align: right;\">\n",
       "      <th></th>\n",
       "      <th>Cust_Id</th>\n",
       "      <th>Rating</th>\n",
       "    </tr>\n",
       "  </thead>\n",
       "  <tbody>\n",
       "    <tr>\n",
       "      <th>0</th>\n",
       "      <td>1:</td>\n",
       "      <td>NaN</td>\n",
       "    </tr>\n",
       "    <tr>\n",
       "      <th>1</th>\n",
       "      <td>1488844</td>\n",
       "      <td>3.0</td>\n",
       "    </tr>\n",
       "    <tr>\n",
       "      <th>2</th>\n",
       "      <td>822109</td>\n",
       "      <td>5.0</td>\n",
       "    </tr>\n",
       "    <tr>\n",
       "      <th>3</th>\n",
       "      <td>885013</td>\n",
       "      <td>4.0</td>\n",
       "    </tr>\n",
       "    <tr>\n",
       "      <th>4</th>\n",
       "      <td>30878</td>\n",
       "      <td>4.0</td>\n",
       "    </tr>\n",
       "    <tr>\n",
       "      <th>...</th>\n",
       "      <td>...</td>\n",
       "      <td>...</td>\n",
       "    </tr>\n",
       "    <tr>\n",
       "      <th>24058258</th>\n",
       "      <td>2591364</td>\n",
       "      <td>2.0</td>\n",
       "    </tr>\n",
       "    <tr>\n",
       "      <th>24058259</th>\n",
       "      <td>1791000</td>\n",
       "      <td>2.0</td>\n",
       "    </tr>\n",
       "    <tr>\n",
       "      <th>24058260</th>\n",
       "      <td>512536</td>\n",
       "      <td>5.0</td>\n",
       "    </tr>\n",
       "    <tr>\n",
       "      <th>24058261</th>\n",
       "      <td>988963</td>\n",
       "      <td>3.0</td>\n",
       "    </tr>\n",
       "    <tr>\n",
       "      <th>24058262</th>\n",
       "      <td>1704416</td>\n",
       "      <td>3.0</td>\n",
       "    </tr>\n",
       "  </tbody>\n",
       "</table>\n",
       "<p>24058263 rows × 2 columns</p>\n",
       "</div>"
      ],
      "text/plain": [
       "          Cust_Id  Rating\n",
       "0              1:     NaN\n",
       "1         1488844     3.0\n",
       "2          822109     5.0\n",
       "3          885013     4.0\n",
       "4           30878     4.0\n",
       "...           ...     ...\n",
       "24058258  2591364     2.0\n",
       "24058259  1791000     2.0\n",
       "24058260   512536     5.0\n",
       "24058261   988963     3.0\n",
       "24058262  1704416     3.0\n",
       "\n",
       "[24058263 rows x 2 columns]"
      ]
     },
     "execution_count": 2,
     "metadata": {},
     "output_type": "execute_result"
    }
   ],
   "source": [
    "netflix_dataset= pd.read_csv('combined_data_1.txt', encoding= 'latin1' ,header= None, usecols= [0,1], names= ['Cust_Id', 'Rating'])\n",
    "netflix_dataset"
   ]
  },
  {
   "cell_type": "code",
   "execution_count": 3,
   "id": "215d6a30",
   "metadata": {},
   "outputs": [
    {
     "data": {
      "text/plain": [
       "(24058263, 2)"
      ]
     },
     "execution_count": 3,
     "metadata": {},
     "output_type": "execute_result"
    }
   ],
   "source": [
    "netflix_dataset.shape"
   ]
  },
  {
   "cell_type": "code",
   "execution_count": 4,
   "id": "f27eeccd",
   "metadata": {},
   "outputs": [
    {
     "name": "stdout",
     "output_type": "stream",
     "text": [
      "<class 'pandas.core.frame.DataFrame'>\n",
      "RangeIndex: 24058263 entries, 0 to 24058262\n",
      "Data columns (total 2 columns):\n",
      " #   Column   Dtype  \n",
      "---  ------   -----  \n",
      " 0   Cust_Id  object \n",
      " 1   Rating   float64\n",
      "dtypes: float64(1), object(1)\n",
      "memory usage: 367.1+ MB\n"
     ]
    }
   ],
   "source": [
    "netflix_dataset.info()"
   ]
  },
  {
   "cell_type": "code",
   "execution_count": 5,
   "id": "90453988",
   "metadata": {},
   "outputs": [
    {
     "data": {
      "text/plain": [
       "4499"
      ]
     },
     "execution_count": 5,
     "metadata": {},
     "output_type": "execute_result"
    }
   ],
   "source": [
    "movie_count= netflix_dataset.isnull().sum()[1]\n",
    "movie_count"
   ]
  },
  {
   "cell_type": "code",
   "execution_count": 6,
   "id": "dbc95d52",
   "metadata": {},
   "outputs": [
    {
     "data": {
      "text/plain": [
       "470758"
      ]
     },
     "execution_count": 6,
     "metadata": {},
     "output_type": "execute_result"
    }
   ],
   "source": [
    "cust_count= netflix_dataset['Cust_Id'].nunique()- movie_count\n",
    "cust_count"
   ]
  },
  {
   "cell_type": "code",
   "execution_count": 7,
   "id": "2c2bd6e2",
   "metadata": {},
   "outputs": [],
   "source": [
    "rating_count= netflix_dataset['Cust_Id'].count()- movie_count"
   ]
  },
  {
   "cell_type": "code",
   "execution_count": 8,
   "id": "cd6343f3",
   "metadata": {},
   "outputs": [
    {
     "data": {
      "text/html": [
       "<div>\n",
       "<style scoped>\n",
       "    .dataframe tbody tr th:only-of-type {\n",
       "        vertical-align: middle;\n",
       "    }\n",
       "\n",
       "    .dataframe tbody tr th {\n",
       "        vertical-align: top;\n",
       "    }\n",
       "\n",
       "    .dataframe thead th {\n",
       "        text-align: right;\n",
       "    }\n",
       "</style>\n",
       "<table border=\"1\" class=\"dataframe\">\n",
       "  <thead>\n",
       "    <tr style=\"text-align: right;\">\n",
       "      <th></th>\n",
       "      <th>count</th>\n",
       "    </tr>\n",
       "    <tr>\n",
       "      <th>Rating</th>\n",
       "      <th></th>\n",
       "    </tr>\n",
       "  </thead>\n",
       "  <tbody>\n",
       "    <tr>\n",
       "      <th>1.0</th>\n",
       "      <td>1118186</td>\n",
       "    </tr>\n",
       "    <tr>\n",
       "      <th>2.0</th>\n",
       "      <td>2439073</td>\n",
       "    </tr>\n",
       "    <tr>\n",
       "      <th>3.0</th>\n",
       "      <td>6904181</td>\n",
       "    </tr>\n",
       "    <tr>\n",
       "      <th>4.0</th>\n",
       "      <td>8085741</td>\n",
       "    </tr>\n",
       "    <tr>\n",
       "      <th>5.0</th>\n",
       "      <td>5506583</td>\n",
       "    </tr>\n",
       "  </tbody>\n",
       "</table>\n",
       "</div>"
      ],
      "text/plain": [
       "          count\n",
       "Rating         \n",
       "1.0     1118186\n",
       "2.0     2439073\n",
       "3.0     6904181\n",
       "4.0     8085741\n",
       "5.0     5506583"
      ]
     },
     "execution_count": 8,
     "metadata": {},
     "output_type": "execute_result"
    }
   ],
   "source": [
    "rating_plot = netflix_dataset.groupby(['Rating'])['Rating'].agg(['count'])\n",
    "rating_plot"
   ]
  },
  {
   "cell_type": "code",
   "execution_count": 9,
   "id": "7dfb7aba",
   "metadata": {},
   "outputs": [
    {
     "data": {
      "image/png": "[encoded data removed]",
      "text/plain": [
       "<Figure size 640x480 with 1 Axes>"
      ]
     },
     "metadata": {},
     "output_type": "display_data"
    }
   ],
   "source": [
    "rating_plot.plot(kind= 'bar', legend= False)\n",
    "plt.xlabel('Rating')\n",
    "plt.ylabel('Number of movies')\n",
    "plt.title(f'Total movies : {movie_count} \\nTotal users : {cust_count} \\nTotal ratings given  : {rating_count}')\n",
    "plt.grid()\n",
    "plt.xticks(rotation = 30)\n",
    "plt.show()"
   ]
  },
  {
   "cell_type": "code",
   "execution_count": 10,
   "id": "0f2494ff",
   "metadata": {},
   "outputs": [
    {
     "data": {
      "text/html": [
       "<div>\n",
       "<style scoped>\n",
       "    .dataframe tbody tr th:only-of-type {\n",
       "        vertical-align: middle;\n",
       "    }\n",
       "\n",
       "    .dataframe tbody tr th {\n",
       "        vertical-align: top;\n",
       "    }\n",
       "\n",
       "    .dataframe thead th {\n",
       "        text-align: right;\n",
       "    }\n",
       "</style>\n",
       "<table border=\"1\" class=\"dataframe\">\n",
       "  <thead>\n",
       "    <tr style=\"text-align: right;\">\n",
       "      <th></th>\n",
       "      <th>index</th>\n",
       "      <th>Rating</th>\n",
       "    </tr>\n",
       "  </thead>\n",
       "  <tbody>\n",
       "    <tr>\n",
       "      <th>0</th>\n",
       "      <td>0</td>\n",
       "      <td>True</td>\n",
       "    </tr>\n",
       "    <tr>\n",
       "      <th>1</th>\n",
       "      <td>548</td>\n",
       "      <td>True</td>\n",
       "    </tr>\n",
       "    <tr>\n",
       "      <th>2</th>\n",
       "      <td>694</td>\n",
       "      <td>True</td>\n",
       "    </tr>\n",
       "    <tr>\n",
       "      <th>3</th>\n",
       "      <td>2707</td>\n",
       "      <td>True</td>\n",
       "    </tr>\n",
       "    <tr>\n",
       "      <th>4</th>\n",
       "      <td>2850</td>\n",
       "      <td>True</td>\n",
       "    </tr>\n",
       "    <tr>\n",
       "      <th>...</th>\n",
       "      <td>...</td>\n",
       "      <td>...</td>\n",
       "    </tr>\n",
       "    <tr>\n",
       "      <th>4494</th>\n",
       "      <td>24046714</td>\n",
       "      <td>True</td>\n",
       "    </tr>\n",
       "    <tr>\n",
       "      <th>4495</th>\n",
       "      <td>24047329</td>\n",
       "      <td>True</td>\n",
       "    </tr>\n",
       "    <tr>\n",
       "      <th>4496</th>\n",
       "      <td>24056849</td>\n",
       "      <td>True</td>\n",
       "    </tr>\n",
       "    <tr>\n",
       "      <th>4497</th>\n",
       "      <td>24057564</td>\n",
       "      <td>True</td>\n",
       "    </tr>\n",
       "    <tr>\n",
       "      <th>4498</th>\n",
       "      <td>24057834</td>\n",
       "      <td>True</td>\n",
       "    </tr>\n",
       "  </tbody>\n",
       "</table>\n",
       "<p>4499 rows × 2 columns</p>\n",
       "</div>"
      ],
      "text/plain": [
       "         index  Rating\n",
       "0            0    True\n",
       "1          548    True\n",
       "2          694    True\n",
       "3         2707    True\n",
       "4         2850    True\n",
       "...        ...     ...\n",
       "4494  24046714    True\n",
       "4495  24047329    True\n",
       "4496  24056849    True\n",
       "4497  24057564    True\n",
       "4498  24057834    True\n",
       "\n",
       "[4499 rows x 2 columns]"
      ]
     },
     "execution_count": 10,
     "metadata": {},
     "output_type": "execute_result"
    }
   ],
   "source": [
    "df_nan= pd.DataFrame(pd.isnull(netflix_dataset['Rating']))\n",
    "df_nan= df_nan[df_nan['Rating']== True]\n",
    "df_nan.reset_index(inplace= True)\n",
    "df_nan"
   ]
  },
  {
   "cell_type": "markdown",
   "id": "fa846613",
   "metadata": {},
   "source": [
    "# ASSIGNING MOVIE ID'S"
   ]
  },
  {
   "cell_type": "code",
   "execution_count": 16,
   "id": "09d395d3",
   "metadata": {},
   "outputs": [],
   "source": [
    "movie_id= 1\n",
    "movie_np = []\n",
    "\n",
    "for i , j in zip(df_nan['index'][1:], df_nan['index'][:-1]):\n",
    "    temp= np.full((1, i-j-1), movie_id)\n",
    "    movie_np= np.append(movie_np, temp)\n",
    "    movie_id +=1\n",
    "    "
   ]
  },
  {
   "cell_type": "code",
   "execution_count": 17,
   "id": "bbad76a0",
   "metadata": {},
   "outputs": [
    {
     "name": "stdout",
     "output_type": "stream",
     "text": [
      "4499\n",
      "(24053336,)\n"
     ]
    }
   ],
   "source": [
    "print(movie_id)\n",
    "print(movie_np.shape)"
   ]
  },
  {
   "cell_type": "code",
   "execution_count": 18,
   "id": "14d6d7af",
   "metadata": {},
   "outputs": [
    {
     "name": "stdout",
     "output_type": "stream",
     "text": [
      "(24053764,)\n"
     ]
    }
   ],
   "source": [
    "last_record= np.full((1, len(netflix_dataset)-df_nan.iloc[-1,0]-1), movie_id)\n",
    "movie_np= np.append(movie_np, last_record)\n",
    "print(movie_np.shape)"
   ]
  },
  {
   "cell_type": "code",
   "execution_count": 19,
   "id": "6e869122",
   "metadata": {},
   "outputs": [
    {
     "data": {
      "text/html": [
       "<div>\n",
       "<style scoped>\n",
       "    .dataframe tbody tr th:only-of-type {\n",
       "        vertical-align: middle;\n",
       "    }\n",
       "\n",
       "    .dataframe tbody tr th {\n",
       "        vertical-align: top;\n",
       "    }\n",
       "\n",
       "    .dataframe thead th {\n",
       "        text-align: right;\n",
       "    }\n",
       "</style>\n",
       "<table border=\"1\" class=\"dataframe\">\n",
       "  <thead>\n",
       "    <tr style=\"text-align: right;\">\n",
       "      <th></th>\n",
       "      <th>Cust_Id</th>\n",
       "      <th>Rating</th>\n",
       "    </tr>\n",
       "  </thead>\n",
       "  <tbody>\n",
       "    <tr>\n",
       "      <th>1</th>\n",
       "      <td>1488844</td>\n",
       "      <td>3.0</td>\n",
       "    </tr>\n",
       "    <tr>\n",
       "      <th>2</th>\n",
       "      <td>822109</td>\n",
       "      <td>5.0</td>\n",
       "    </tr>\n",
       "    <tr>\n",
       "      <th>3</th>\n",
       "      <td>885013</td>\n",
       "      <td>4.0</td>\n",
       "    </tr>\n",
       "    <tr>\n",
       "      <th>4</th>\n",
       "      <td>30878</td>\n",
       "      <td>4.0</td>\n",
       "    </tr>\n",
       "    <tr>\n",
       "      <th>5</th>\n",
       "      <td>823519</td>\n",
       "      <td>3.0</td>\n",
       "    </tr>\n",
       "    <tr>\n",
       "      <th>...</th>\n",
       "      <td>...</td>\n",
       "      <td>...</td>\n",
       "    </tr>\n",
       "    <tr>\n",
       "      <th>24058258</th>\n",
       "      <td>2591364</td>\n",
       "      <td>2.0</td>\n",
       "    </tr>\n",
       "    <tr>\n",
       "      <th>24058259</th>\n",
       "      <td>1791000</td>\n",
       "      <td>2.0</td>\n",
       "    </tr>\n",
       "    <tr>\n",
       "      <th>24058260</th>\n",
       "      <td>512536</td>\n",
       "      <td>5.0</td>\n",
       "    </tr>\n",
       "    <tr>\n",
       "      <th>24058261</th>\n",
       "      <td>988963</td>\n",
       "      <td>3.0</td>\n",
       "    </tr>\n",
       "    <tr>\n",
       "      <th>24058262</th>\n",
       "      <td>1704416</td>\n",
       "      <td>3.0</td>\n",
       "    </tr>\n",
       "  </tbody>\n",
       "</table>\n",
       "<p>24053764 rows × 2 columns</p>\n",
       "</div>"
      ],
      "text/plain": [
       "          Cust_Id  Rating\n",
       "1         1488844     3.0\n",
       "2          822109     5.0\n",
       "3          885013     4.0\n",
       "4           30878     4.0\n",
       "5          823519     3.0\n",
       "...           ...     ...\n",
       "24058258  2591364     2.0\n",
       "24058259  1791000     2.0\n",
       "24058260   512536     5.0\n",
       "24058261   988963     3.0\n",
       "24058262  1704416     3.0\n",
       "\n",
       "[24053764 rows x 2 columns]"
      ]
     },
     "execution_count": 19,
     "metadata": {},
     "output_type": "execute_result"
    }
   ],
   "source": [
    "netflix_dataset= netflix_dataset[pd.notnull(netflix_dataset['Rating'])]\n",
    "netflix_dataset"
   ]
  },
  {
   "cell_type": "code",
   "execution_count": 20,
   "id": "a6dc04b2",
   "metadata": {},
   "outputs": [
    {
     "name": "stderr",
     "output_type": "stream",
     "text": [
      "C:\\Users\\R.Yeshasvin\\AppData\\Local\\Temp\\ipykernel_27392\\1391442996.py:1: SettingWithCopyWarning: \n",
      "A value is trying to be set on a copy of a slice from a DataFrame.\n",
      "Try using .loc[row_indexer,col_indexer] = value instead\n",
      "\n",
      "See the caveats in the documentation: https://pandas.pydata.org/pandas-docs/stable/user_guide/indexing.html#returning-a-view-versus-a-copy\n",
      "  netflix_dataset['Movie_Id']= movie_np.astype(int)\n"
     ]
    },
    {
     "data": {
      "text/html": [
       "<div>\n",
       "<style scoped>\n",
       "    .dataframe tbody tr th:only-of-type {\n",
       "        vertical-align: middle;\n",
       "    }\n",
       "\n",
       "    .dataframe tbody tr th {\n",
       "        vertical-align: top;\n",
       "    }\n",
       "\n",
       "    .dataframe thead th {\n",
       "        text-align: right;\n",
       "    }\n",
       "</style>\n",
       "<table border=\"1\" class=\"dataframe\">\n",
       "  <thead>\n",
       "    <tr style=\"text-align: right;\">\n",
       "      <th></th>\n",
       "      <th>Cust_Id</th>\n",
       "      <th>Rating</th>\n",
       "      <th>Movie_Id</th>\n",
       "    </tr>\n",
       "  </thead>\n",
       "  <tbody>\n",
       "    <tr>\n",
       "      <th>1</th>\n",
       "      <td>1488844</td>\n",
       "      <td>3.0</td>\n",
       "      <td>1</td>\n",
       "    </tr>\n",
       "    <tr>\n",
       "      <th>2</th>\n",
       "      <td>822109</td>\n",
       "      <td>5.0</td>\n",
       "      <td>1</td>\n",
       "    </tr>\n",
       "    <tr>\n",
       "      <th>3</th>\n",
       "      <td>885013</td>\n",
       "      <td>4.0</td>\n",
       "      <td>1</td>\n",
       "    </tr>\n",
       "    <tr>\n",
       "      <th>4</th>\n",
       "      <td>30878</td>\n",
       "      <td>4.0</td>\n",
       "      <td>1</td>\n",
       "    </tr>\n",
       "    <tr>\n",
       "      <th>5</th>\n",
       "      <td>823519</td>\n",
       "      <td>3.0</td>\n",
       "      <td>1</td>\n",
       "    </tr>\n",
       "  </tbody>\n",
       "</table>\n",
       "</div>"
      ],
      "text/plain": [
       "   Cust_Id  Rating  Movie_Id\n",
       "1  1488844     3.0         1\n",
       "2   822109     5.0         1\n",
       "3   885013     4.0         1\n",
       "4    30878     4.0         1\n",
       "5   823519     3.0         1"
      ]
     },
     "execution_count": 20,
     "metadata": {},
     "output_type": "execute_result"
    }
   ],
   "source": [
    "netflix_dataset['Movie_Id']= movie_np.astype(int)\n",
    "netflix_dataset.head()"
   ]
  },
  {
   "cell_type": "code",
   "execution_count": 21,
   "id": "4ee48219",
   "metadata": {},
   "outputs": [
    {
     "name": "stderr",
     "output_type": "stream",
     "text": [
      "C:\\Users\\R.Yeshasvin\\AppData\\Local\\Temp\\ipykernel_27392\\3434585833.py:1: SettingWithCopyWarning: \n",
      "A value is trying to be set on a copy of a slice from a DataFrame.\n",
      "Try using .loc[row_indexer,col_indexer] = value instead\n",
      "\n",
      "See the caveats in the documentation: https://pandas.pydata.org/pandas-docs/stable/user_guide/indexing.html#returning-a-view-versus-a-copy\n",
      "  netflix_dataset['Cust_Id']= netflix_dataset['Cust_Id'].astype(int)\n"
     ]
    }
   ],
   "source": [
    "netflix_dataset['Cust_Id']= netflix_dataset['Cust_Id'].astype(int)"
   ]
  },
  {
   "cell_type": "markdown",
   "id": "70114020",
   "metadata": {},
   "source": [
    "# DATA CLEANING"
   ]
  },
  {
   "cell_type": "code",
   "execution_count": 22,
   "id": "9c8bdadf",
   "metadata": {},
   "outputs": [],
   "source": [
    "f = ['count', 'mean']"
   ]
  },
  {
   "cell_type": "code",
   "execution_count": 23,
   "id": "c67e45f3",
   "metadata": {},
   "outputs": [
    {
     "name": "stdout",
     "output_type": "stream",
     "text": [
      "Minimum number of ratings required for a movie to be considered : 1799.0\n"
     ]
    }
   ],
   "source": [
    "movie_summary= netflix_dataset.groupby(['Movie_Id'])['Movie_Id'].agg(f)\n",
    "movie_benchmark= round(movie_summary['count'].quantile(0.7),0)\n",
    "print(f'Minimum number of ratings required for a movie to be considered : {movie_benchmark}')"
   ]
  },
  {
   "cell_type": "code",
   "execution_count": 24,
   "id": "871a42eb",
   "metadata": {},
   "outputs": [
    {
     "name": "stdout",
     "output_type": "stream",
     "text": [
      "Mimimum number rating to be given by a user for the user to be considered : 52.0\n"
     ]
    }
   ],
   "source": [
    "cust_summary= netflix_dataset.groupby(['Cust_Id'])['Rating'].agg(f)\n",
    "cust_benchmark = round(cust_summary['count'].quantile(0.7),0)\n",
    "print(f'Mimimum number rating to be given by a user for the user to be considered : {cust_benchmark}')"
   ]
  },
  {
   "cell_type": "code",
   "execution_count": 25,
   "id": "38c9e5d7",
   "metadata": {},
   "outputs": [
    {
     "data": {
      "text/plain": [
       "Int64Index([   1,    2,    4,    5,    6,    7,    9,   10,   11,   12,\n",
       "            ...\n",
       "            4484, 4486, 4487, 4489, 4491, 4494, 4495, 4497, 4498, 4499],\n",
       "           dtype='int64', name='Movie_Id', length=3149)"
      ]
     },
     "execution_count": 25,
     "metadata": {},
     "output_type": "execute_result"
    }
   ],
   "source": [
    "drop_movie_list= movie_summary[movie_summary['count'] < movie_benchmark].index\n",
    "drop_movie_list"
   ]
  },
  {
   "cell_type": "code",
   "execution_count": 26,
   "id": "ad8d4238",
   "metadata": {},
   "outputs": [
    {
     "data": {
      "text/plain": [
       "Int64Index([      8,      10,      25,      33,      42,      59,      83,\n",
       "                 87,      94,     116,\n",
       "            ...\n",
       "            2649343, 2649351, 2649375, 2649376, 2649379, 2649384, 2649401,\n",
       "            2649404, 2649409, 2649421],\n",
       "           dtype='int64', name='Cust_Id', length=327300)"
      ]
     },
     "execution_count": 26,
     "metadata": {},
     "output_type": "execute_result"
    }
   ],
   "source": [
    "drop_cust_list= cust_summary[cust_summary['count'] < cust_benchmark].index\n",
    "drop_cust_list"
   ]
  },
  {
   "cell_type": "code",
   "execution_count": 27,
   "id": "ca18ba41",
   "metadata": {},
   "outputs": [
    {
     "data": {
      "text/plain": [
       "(17337458, 3)"
      ]
     },
     "execution_count": 27,
     "metadata": {},
     "output_type": "execute_result"
    }
   ],
   "source": [
    "netflix_dataset= netflix_dataset[~netflix_dataset['Movie_Id'].isin(drop_movie_list)]\n",
    "netflix_dataset= netflix_dataset[~netflix_dataset['Cust_Id'].isin(drop_cust_list)]\n",
    "netflix_dataset.shape"
   ]
  },
  {
   "cell_type": "markdown",
   "id": "17b50db5",
   "metadata": {},
   "source": [
    "# LOADING THE MOVIES DATASET"
   ]
  },
  {
   "cell_type": "code",
   "execution_count": 28,
   "id": "cb19080e",
   "metadata": {},
   "outputs": [
    {
     "data": {
      "text/html": [
       "<div>\n",
       "<style scoped>\n",
       "    .dataframe tbody tr th:only-of-type {\n",
       "        vertical-align: middle;\n",
       "    }\n",
       "\n",
       "    .dataframe tbody tr th {\n",
       "        vertical-align: top;\n",
       "    }\n",
       "\n",
       "    .dataframe thead th {\n",
       "        text-align: right;\n",
       "    }\n",
       "</style>\n",
       "<table border=\"1\" class=\"dataframe\">\n",
       "  <thead>\n",
       "    <tr style=\"text-align: right;\">\n",
       "      <th></th>\n",
       "      <th>Movie_Id</th>\n",
       "      <th>Year</th>\n",
       "      <th>Name</th>\n",
       "    </tr>\n",
       "  </thead>\n",
       "  <tbody>\n",
       "    <tr>\n",
       "      <th>0</th>\n",
       "      <td>1</td>\n",
       "      <td>2003.0</td>\n",
       "      <td>Dinosaur Planet</td>\n",
       "    </tr>\n",
       "    <tr>\n",
       "      <th>1</th>\n",
       "      <td>2</td>\n",
       "      <td>2004.0</td>\n",
       "      <td>Isle of Man TT 2004 Review</td>\n",
       "    </tr>\n",
       "    <tr>\n",
       "      <th>2</th>\n",
       "      <td>3</td>\n",
       "      <td>1997.0</td>\n",
       "      <td>Character</td>\n",
       "    </tr>\n",
       "    <tr>\n",
       "      <th>3</th>\n",
       "      <td>4</td>\n",
       "      <td>1994.0</td>\n",
       "      <td>Paula Abdul's Get Up &amp; Dance</td>\n",
       "    </tr>\n",
       "    <tr>\n",
       "      <th>4</th>\n",
       "      <td>5</td>\n",
       "      <td>2004.0</td>\n",
       "      <td>The Rise and Fall of ECW</td>\n",
       "    </tr>\n",
       "    <tr>\n",
       "      <th>...</th>\n",
       "      <td>...</td>\n",
       "      <td>...</td>\n",
       "      <td>...</td>\n",
       "    </tr>\n",
       "    <tr>\n",
       "      <th>17764</th>\n",
       "      <td>17766</td>\n",
       "      <td>2002.0</td>\n",
       "      <td>Where the Wild Things Are and Other Maurice Se...</td>\n",
       "    </tr>\n",
       "    <tr>\n",
       "      <th>17765</th>\n",
       "      <td>17767</td>\n",
       "      <td>2004.0</td>\n",
       "      <td>Fidel Castro: American Experience</td>\n",
       "    </tr>\n",
       "    <tr>\n",
       "      <th>17766</th>\n",
       "      <td>17768</td>\n",
       "      <td>2000.0</td>\n",
       "      <td>Epoch</td>\n",
       "    </tr>\n",
       "    <tr>\n",
       "      <th>17767</th>\n",
       "      <td>17769</td>\n",
       "      <td>2003.0</td>\n",
       "      <td>The Company</td>\n",
       "    </tr>\n",
       "    <tr>\n",
       "      <th>17768</th>\n",
       "      <td>17770</td>\n",
       "      <td>2003.0</td>\n",
       "      <td>Alien Hunter</td>\n",
       "    </tr>\n",
       "  </tbody>\n",
       "</table>\n",
       "<p>17769 rows × 3 columns</p>\n",
       "</div>"
      ],
      "text/plain": [
       "       Movie_Id    Year                                               Name\n",
       "0             1  2003.0                                    Dinosaur Planet\n",
       "1             2  2004.0                         Isle of Man TT 2004 Review\n",
       "2             3  1997.0                                          Character\n",
       "3             4  1994.0                       Paula Abdul's Get Up & Dance\n",
       "4             5  2004.0                           The Rise and Fall of ECW\n",
       "...         ...     ...                                                ...\n",
       "17764     17766  2002.0  Where the Wild Things Are and Other Maurice Se...\n",
       "17765     17767  2004.0                  Fidel Castro: American Experience\n",
       "17766     17768  2000.0                                              Epoch\n",
       "17767     17769  2003.0                                        The Company\n",
       "17768     17770  2003.0                                       Alien Hunter\n",
       "\n",
       "[17769 rows x 3 columns]"
      ]
     },
     "execution_count": 28,
     "metadata": {},
     "output_type": "execute_result"
    }
   ],
   "source": [
    "movie_titles= pd.read_csv('movie_titles _1_ (2) (2).csv', encoding= 'latin1', usecols= [0,1,2,], names= ['Movie_Id', 'Year', 'Name'], header= None)\n",
    "movie_titles"
   ]
  },
  {
   "cell_type": "code",
   "execution_count": 29,
   "id": "0309dbdb",
   "metadata": {},
   "outputs": [
    {
     "data": {
      "text/html": [
       "<div>\n",
       "<style scoped>\n",
       "    .dataframe tbody tr th:only-of-type {\n",
       "        vertical-align: middle;\n",
       "    }\n",
       "\n",
       "    .dataframe tbody tr th {\n",
       "        vertical-align: top;\n",
       "    }\n",
       "\n",
       "    .dataframe thead th {\n",
       "        text-align: right;\n",
       "    }\n",
       "</style>\n",
       "<table border=\"1\" class=\"dataframe\">\n",
       "  <thead>\n",
       "    <tr style=\"text-align: right;\">\n",
       "      <th></th>\n",
       "      <th>Year</th>\n",
       "      <th>Name</th>\n",
       "    </tr>\n",
       "    <tr>\n",
       "      <th>Movie_Id</th>\n",
       "      <th></th>\n",
       "      <th></th>\n",
       "    </tr>\n",
       "  </thead>\n",
       "  <tbody>\n",
       "    <tr>\n",
       "      <th>1</th>\n",
       "      <td>2003.0</td>\n",
       "      <td>Dinosaur Planet</td>\n",
       "    </tr>\n",
       "    <tr>\n",
       "      <th>2</th>\n",
       "      <td>2004.0</td>\n",
       "      <td>Isle of Man TT 2004 Review</td>\n",
       "    </tr>\n",
       "    <tr>\n",
       "      <th>3</th>\n",
       "      <td>1997.0</td>\n",
       "      <td>Character</td>\n",
       "    </tr>\n",
       "    <tr>\n",
       "      <th>4</th>\n",
       "      <td>1994.0</td>\n",
       "      <td>Paula Abdul's Get Up &amp; Dance</td>\n",
       "    </tr>\n",
       "    <tr>\n",
       "      <th>5</th>\n",
       "      <td>2004.0</td>\n",
       "      <td>The Rise and Fall of ECW</td>\n",
       "    </tr>\n",
       "  </tbody>\n",
       "</table>\n",
       "</div>"
      ],
      "text/plain": [
       "            Year                          Name\n",
       "Movie_Id                                      \n",
       "1         2003.0               Dinosaur Planet\n",
       "2         2004.0    Isle of Man TT 2004 Review\n",
       "3         1997.0                     Character\n",
       "4         1994.0  Paula Abdul's Get Up & Dance\n",
       "5         2004.0      The Rise and Fall of ECW"
      ]
     },
     "execution_count": 29,
     "metadata": {},
     "output_type": "execute_result"
    }
   ],
   "source": [
    "movie_titles.set_index('Movie_Id', inplace= True)\n",
    "movie_titles.head()"
   ]
  },
  {
   "cell_type": "code",
   "execution_count": 31,
   "id": "502f69e3",
   "metadata": {},
   "outputs": [],
   "source": [
    "import math \n",
    "from surprise import Reader, Dataset, SVD\n",
    "from surprise.model_selection import cross_validate"
   ]
  },
  {
   "cell_type": "code",
   "execution_count": 32,
   "id": "3610b5b3",
   "metadata": {},
   "outputs": [],
   "source": [
    "reader= Reader()\n",
    "svd= SVD()"
   ]
  },
  {
   "cell_type": "code",
   "execution_count": 33,
   "id": "bf1b5e23",
   "metadata": {},
   "outputs": [],
   "source": [
    "data= Dataset.load_from_df(netflix_dataset[['Cust_Id', 'Movie_Id', 'Rating']][:100000], reader)"
   ]
  },
  {
   "cell_type": "code",
   "execution_count": 34,
   "id": "e7f8d7e3",
   "metadata": {},
   "outputs": [
    {
     "name": "stdout",
     "output_type": "stream",
     "text": [
      "Evaluating RMSE, MAE of algorithm SVD on 5 split(s).\n",
      "\n",
      "                  Fold 1  Fold 2  Fold 3  Fold 4  Fold 5  Mean    Std     \n",
      "RMSE (testset)    0.9962  1.0003  0.9983  0.9996  0.9936  0.9976  0.0024  \n",
      "MAE (testset)     0.8066  0.8020  0.8014  0.8021  0.7933  0.8011  0.0043  \n",
      "Fit time          1.10    1.08    1.22    1.14    1.20    1.15    0.06    \n",
      "Test time         0.14    0.13    0.14    0.12    0.12    0.13    0.01    \n"
     ]
    },
    {
     "data": {
      "text/plain": [
       "{'test_rmse': array([0.99617222, 1.00027631, 0.99834016, 0.99962174, 0.99358232]),\n",
       " 'test_mae': array([0.80658536, 0.80201985, 0.80140079, 0.8020503 , 0.79333136]),\n",
       " 'fit_time': (1.095959186553955,\n",
       "  1.0786337852478027,\n",
       "  1.224348783493042,\n",
       "  1.1406686305999756,\n",
       "  1.1959693431854248),\n",
       " 'test_time': (0.14386510848999023,\n",
       "  0.1261591911315918,\n",
       "  0.14118242263793945,\n",
       "  0.12021017074584961,\n",
       "  0.1164853572845459)}"
      ]
     },
     "execution_count": 34,
     "metadata": {},
     "output_type": "execute_result"
    }
   ],
   "source": [
    "cross_validate(svd, data, measures= ['RMSE', 'MAE'], verbose=True)"
   ]
  },
  {
   "cell_type": "markdown",
   "id": "47b6dc9b",
   "metadata": {},
   "source": [
    "# BUILDING A RECOMMENDATION SYSTEM FOR A SINGLE USER "
   ]
  },
  {
   "cell_type": "code",
   "execution_count": 36,
   "id": "890b8e80",
   "metadata": {},
   "outputs": [
    {
     "data": {
      "text/html": [
       "<div>\n",
       "<style scoped>\n",
       "    .dataframe tbody tr th:only-of-type {\n",
       "        vertical-align: middle;\n",
       "    }\n",
       "\n",
       "    .dataframe tbody tr th {\n",
       "        vertical-align: top;\n",
       "    }\n",
       "\n",
       "    .dataframe thead th {\n",
       "        text-align: right;\n",
       "    }\n",
       "</style>\n",
       "<table border=\"1\" class=\"dataframe\">\n",
       "  <thead>\n",
       "    <tr style=\"text-align: right;\">\n",
       "      <th></th>\n",
       "      <th>Cust_Id</th>\n",
       "      <th>Rating</th>\n",
       "    </tr>\n",
       "    <tr>\n",
       "      <th>Movie_Id</th>\n",
       "      <th></th>\n",
       "      <th></th>\n",
       "    </tr>\n",
       "  </thead>\n",
       "  <tbody>\n",
       "    <tr>\n",
       "      <th>3</th>\n",
       "      <td>712664</td>\n",
       "      <td>5.0</td>\n",
       "    </tr>\n",
       "    <tr>\n",
       "      <th>79</th>\n",
       "      <td>712664</td>\n",
       "      <td>5.0</td>\n",
       "    </tr>\n",
       "    <tr>\n",
       "      <th>175</th>\n",
       "      <td>712664</td>\n",
       "      <td>5.0</td>\n",
       "    </tr>\n",
       "    <tr>\n",
       "      <th>199</th>\n",
       "      <td>712664</td>\n",
       "      <td>5.0</td>\n",
       "    </tr>\n",
       "    <tr>\n",
       "      <th>241</th>\n",
       "      <td>712664</td>\n",
       "      <td>5.0</td>\n",
       "    </tr>\n",
       "    <tr>\n",
       "      <th>...</th>\n",
       "      <td>...</td>\n",
       "      <td>...</td>\n",
       "    </tr>\n",
       "    <tr>\n",
       "      <th>3887</th>\n",
       "      <td>712664</td>\n",
       "      <td>5.0</td>\n",
       "    </tr>\n",
       "    <tr>\n",
       "      <th>4109</th>\n",
       "      <td>712664</td>\n",
       "      <td>5.0</td>\n",
       "    </tr>\n",
       "    <tr>\n",
       "      <th>4266</th>\n",
       "      <td>712664</td>\n",
       "      <td>5.0</td>\n",
       "    </tr>\n",
       "    <tr>\n",
       "      <th>4384</th>\n",
       "      <td>712664</td>\n",
       "      <td>5.0</td>\n",
       "    </tr>\n",
       "    <tr>\n",
       "      <th>4392</th>\n",
       "      <td>712664</td>\n",
       "      <td>5.0</td>\n",
       "    </tr>\n",
       "  </tbody>\n",
       "</table>\n",
       "<p>84 rows × 2 columns</p>\n",
       "</div>"
      ],
      "text/plain": [
       "          Cust_Id  Rating\n",
       "Movie_Id                 \n",
       "3          712664     5.0\n",
       "79         712664     5.0\n",
       "175        712664     5.0\n",
       "199        712664     5.0\n",
       "241        712664     5.0\n",
       "...           ...     ...\n",
       "3887       712664     5.0\n",
       "4109       712664     5.0\n",
       "4266       712664     5.0\n",
       "4384       712664     5.0\n",
       "4392       712664     5.0\n",
       "\n",
       "[84 rows x 2 columns]"
      ]
     },
     "execution_count": 36,
     "metadata": {},
     "output_type": "execute_result"
    }
   ],
   "source": [
    "dataset_712664= netflix_dataset[(netflix_dataset['Cust_Id']==712664) & (netflix_dataset['Rating']== 5)]\n",
    "dataset_712664 = dataset_712664.set_index('Movie_Id')\n",
    "dataset_712664"
   ]
  },
  {
   "cell_type": "code",
   "execution_count": 37,
   "id": "e7778829",
   "metadata": {},
   "outputs": [
    {
     "data": {
      "text/plain": [
       "Movie_Id\n",
       "3                       Character\n",
       "79                    The Killing\n",
       "175                Reservoir Dogs\n",
       "199               The Deer Hunter\n",
       "241            North by Northwest\n",
       "                  ...            \n",
       "3887    Aguirre: The Wrath of God\n",
       "4109              American Psycho\n",
       "4266    The Passion of the Christ\n",
       "4384             Dawn of the Dead\n",
       "4392             Army of Darkness\n",
       "Name: Name, Length: 84, dtype: object"
      ]
     },
     "execution_count": 37,
     "metadata": {},
     "output_type": "execute_result"
    }
   ],
   "source": [
    "dataset_712664= dataset_712664.join(movie_titles)['Name']\n",
    "dataset_712664"
   ]
  },
  {
   "cell_type": "code",
   "execution_count": 35,
   "id": "f8eefc6b",
   "metadata": {},
   "outputs": [
    {
     "data": {
      "text/html": [
       "<div>\n",
       "<style scoped>\n",
       "    .dataframe tbody tr th:only-of-type {\n",
       "        vertical-align: middle;\n",
       "    }\n",
       "\n",
       "    .dataframe tbody tr th {\n",
       "        vertical-align: top;\n",
       "    }\n",
       "\n",
       "    .dataframe thead th {\n",
       "        text-align: right;\n",
       "    }\n",
       "</style>\n",
       "<table border=\"1\" class=\"dataframe\">\n",
       "  <thead>\n",
       "    <tr style=\"text-align: right;\">\n",
       "      <th></th>\n",
       "      <th>Movie_Id</th>\n",
       "      <th>Year</th>\n",
       "      <th>Name</th>\n",
       "    </tr>\n",
       "  </thead>\n",
       "  <tbody>\n",
       "    <tr>\n",
       "      <th>2</th>\n",
       "      <td>3</td>\n",
       "      <td>1997.0</td>\n",
       "      <td>Character</td>\n",
       "    </tr>\n",
       "    <tr>\n",
       "      <th>7</th>\n",
       "      <td>8</td>\n",
       "      <td>2004.0</td>\n",
       "      <td>What the #$*! Do We Know!?</td>\n",
       "    </tr>\n",
       "    <tr>\n",
       "      <th>15</th>\n",
       "      <td>16</td>\n",
       "      <td>1996.0</td>\n",
       "      <td>Screamers</td>\n",
       "    </tr>\n",
       "    <tr>\n",
       "      <th>16</th>\n",
       "      <td>17</td>\n",
       "      <td>2005.0</td>\n",
       "      <td>7 Seconds</td>\n",
       "    </tr>\n",
       "    <tr>\n",
       "      <th>17</th>\n",
       "      <td>18</td>\n",
       "      <td>1994.0</td>\n",
       "      <td>Immortal Beloved</td>\n",
       "    </tr>\n",
       "    <tr>\n",
       "      <th>...</th>\n",
       "      <td>...</td>\n",
       "      <td>...</td>\n",
       "      <td>...</td>\n",
       "    </tr>\n",
       "    <tr>\n",
       "      <th>17764</th>\n",
       "      <td>17766</td>\n",
       "      <td>2002.0</td>\n",
       "      <td>Where the Wild Things Are and Other Maurice Se...</td>\n",
       "    </tr>\n",
       "    <tr>\n",
       "      <th>17765</th>\n",
       "      <td>17767</td>\n",
       "      <td>2004.0</td>\n",
       "      <td>Fidel Castro: American Experience</td>\n",
       "    </tr>\n",
       "    <tr>\n",
       "      <th>17766</th>\n",
       "      <td>17768</td>\n",
       "      <td>2000.0</td>\n",
       "      <td>Epoch</td>\n",
       "    </tr>\n",
       "    <tr>\n",
       "      <th>17767</th>\n",
       "      <td>17769</td>\n",
       "      <td>2003.0</td>\n",
       "      <td>The Company</td>\n",
       "    </tr>\n",
       "    <tr>\n",
       "      <th>17768</th>\n",
       "      <td>17770</td>\n",
       "      <td>2003.0</td>\n",
       "      <td>Alien Hunter</td>\n",
       "    </tr>\n",
       "  </tbody>\n",
       "</table>\n",
       "<p>14620 rows × 3 columns</p>\n",
       "</div>"
      ],
      "text/plain": [
       "       Movie_Id    Year                                               Name\n",
       "2             3  1997.0                                          Character\n",
       "7             8  2004.0                         What the #$*! Do We Know!?\n",
       "15           16  1996.0                                          Screamers\n",
       "16           17  2005.0                                          7 Seconds\n",
       "17           18  1994.0                                   Immortal Beloved\n",
       "...         ...     ...                                                ...\n",
       "17764     17766  2002.0  Where the Wild Things Are and Other Maurice Se...\n",
       "17765     17767  2004.0                  Fidel Castro: American Experience\n",
       "17766     17768  2000.0                                              Epoch\n",
       "17767     17769  2003.0                                        The Company\n",
       "17768     17770  2003.0                                       Alien Hunter\n",
       "\n",
       "[14620 rows x 3 columns]"
      ]
     },
     "execution_count": 35,
     "metadata": {},
     "output_type": "execute_result"
    }
   ],
   "source": [
    "user_712664= movie_titles.copy()\n",
    "user_712664.reset_index(inplace=True)\n",
    "user_712664= user_712664[~user_712664['Movie_Id'].isin(drop_movie_list)]\n",
    "user_712664"
   ]
  },
  {
   "cell_type": "code",
   "execution_count": 39,
   "id": "6dfb79bb",
   "metadata": {},
   "outputs": [
    {
     "data": {
      "text/plain": [
       "<surprise.prediction_algorithms.matrix_factorization.SVD at 0x1d3016692d0>"
      ]
     },
     "execution_count": 39,
     "metadata": {},
     "output_type": "execute_result"
    }
   ],
   "source": [
    "data = Dataset.load_from_df(netflix_dataset[['Cust_Id', 'Movie_Id', 'Rating']], reader)\n",
    "train_set = data.build_full_trainset()\n",
    "svd.fit(train_set)"
   ]
  },
  {
   "cell_type": "code",
   "execution_count": 40,
   "id": "dc447c68",
   "metadata": {},
   "outputs": [],
   "source": [
    "user_712664['Estimate_Score'] = user_712664['Movie_Id'].apply(lambda x: svd.predict(712664, x).est)"
   ]
  },
  {
   "cell_type": "code",
   "execution_count": 46,
   "id": "3c7d9ca8",
   "metadata": {},
   "outputs": [
    {
     "data": {
      "text/html": [
       "<div>\n",
       "<style scoped>\n",
       "    .dataframe tbody tr th:only-of-type {\n",
       "        vertical-align: middle;\n",
       "    }\n",
       "\n",
       "    .dataframe tbody tr th {\n",
       "        vertical-align: top;\n",
       "    }\n",
       "\n",
       "    .dataframe thead th {\n",
       "        text-align: right;\n",
       "    }\n",
       "</style>\n",
       "<table border=\"1\" class=\"dataframe\">\n",
       "  <thead>\n",
       "    <tr style=\"text-align: right;\">\n",
       "      <th></th>\n",
       "      <th>Movie_Id</th>\n",
       "      <th>Year</th>\n",
       "      <th>Name</th>\n",
       "      <th>Estimate_Score</th>\n",
       "    </tr>\n",
       "  </thead>\n",
       "  <tbody>\n",
       "    <tr>\n",
       "      <th>2101</th>\n",
       "      <td>2102</td>\n",
       "      <td>1994.0</td>\n",
       "      <td>The Simpsons: Season 6</td>\n",
       "      <td>5.000000</td>\n",
       "    </tr>\n",
       "    <tr>\n",
       "      <th>4359</th>\n",
       "      <td>4360</td>\n",
       "      <td>1996.0</td>\n",
       "      <td>Mr. Show: Season 2</td>\n",
       "      <td>5.000000</td>\n",
       "    </tr>\n",
       "    <tr>\n",
       "      <th>3661</th>\n",
       "      <td>3662</td>\n",
       "      <td>1994.0</td>\n",
       "      <td>House of Cards Trilogy II: To Play the King</td>\n",
       "      <td>5.000000</td>\n",
       "    </tr>\n",
       "    <tr>\n",
       "      <th>4184</th>\n",
       "      <td>4185</td>\n",
       "      <td>1989.0</td>\n",
       "      <td>The Kids in the Hall: Season 1</td>\n",
       "      <td>5.000000</td>\n",
       "    </tr>\n",
       "    <tr>\n",
       "      <th>871</th>\n",
       "      <td>872</td>\n",
       "      <td>1954.0</td>\n",
       "      <td>Seven Samurai</td>\n",
       "      <td>5.000000</td>\n",
       "    </tr>\n",
       "    <tr>\n",
       "      <th>560</th>\n",
       "      <td>561</td>\n",
       "      <td>1963.0</td>\n",
       "      <td>High and Low</td>\n",
       "      <td>5.000000</td>\n",
       "    </tr>\n",
       "    <tr>\n",
       "      <th>174</th>\n",
       "      <td>175</td>\n",
       "      <td>1992.0</td>\n",
       "      <td>Reservoir Dogs</td>\n",
       "      <td>5.000000</td>\n",
       "    </tr>\n",
       "    <tr>\n",
       "      <th>4053</th>\n",
       "      <td>4054</td>\n",
       "      <td>1990.0</td>\n",
       "      <td>House of Cards Trilogy I: House of Cards</td>\n",
       "      <td>5.000000</td>\n",
       "    </tr>\n",
       "    <tr>\n",
       "      <th>3289</th>\n",
       "      <td>3290</td>\n",
       "      <td>1974.0</td>\n",
       "      <td>The Godfather</td>\n",
       "      <td>5.000000</td>\n",
       "    </tr>\n",
       "    <tr>\n",
       "      <th>721</th>\n",
       "      <td>722</td>\n",
       "      <td>2003.0</td>\n",
       "      <td>The Wire: Season 1</td>\n",
       "      <td>4.987757</td>\n",
       "    </tr>\n",
       "  </tbody>\n",
       "</table>\n",
       "</div>"
      ],
      "text/plain": [
       "      Movie_Id    Year                                         Name  \\\n",
       "2101      2102  1994.0                       The Simpsons: Season 6   \n",
       "4359      4360  1996.0                           Mr. Show: Season 2   \n",
       "3661      3662  1994.0  House of Cards Trilogy II: To Play the King   \n",
       "4184      4185  1989.0               The Kids in the Hall: Season 1   \n",
       "871        872  1954.0                                Seven Samurai   \n",
       "560        561  1963.0                                 High and Low   \n",
       "174        175  1992.0                               Reservoir Dogs   \n",
       "4053      4054  1990.0     House of Cards Trilogy I: House of Cards   \n",
       "3289      3290  1974.0                                The Godfather   \n",
       "721        722  2003.0                           The Wire: Season 1   \n",
       "\n",
       "      Estimate_Score  \n",
       "2101        5.000000  \n",
       "4359        5.000000  \n",
       "3661        5.000000  \n",
       "4184        5.000000  \n",
       "871         5.000000  \n",
       "560         5.000000  \n",
       "174         5.000000  \n",
       "4053        5.000000  \n",
       "3289        5.000000  \n",
       "721         4.987757  "
      ]
     },
     "execution_count": 46,
     "metadata": {},
     "output_type": "execute_result"
    }
   ],
   "source": [
    "user_712664 = user_712664.sort_values('Estimate_Score', ascending=False)\n",
    "user_712664.head(10)"
   ]
  },
  {
   "cell_type": "code",
   "execution_count": 70,
   "id": "befebf8d",
   "metadata": {},
   "outputs": [],
   "source": [
    "user_list= []\n",
    "for id in netflix_dataset['Cust_Id']:\n",
    "    user_list.append(id)"
   ]
  },
  {
   "cell_type": "code",
   "execution_count": 102,
   "id": "3f88d894",
   "metadata": {},
   "outputs": [],
   "source": [
    "def movie_recommender():\n",
    "    i= int(input(\"Please enter a user ID to view recommendations : \"))\n",
    "    if i in user_list:\n",
    "        user_recommendation=  movie_titles.copy()\n",
    "        user_recommendation.reset_index(inplace= True)\n",
    "        user_recommendation= user_recommendation[~user_recommendation['Movie_Id'].isin(drop_movie_list)]\n",
    "    \n",
    "    \n",
    "        user_recommendation['Estimate_score']= user_recommendation['Movie_Id'].apply(lambda x : svd.predict(i, x).est)\n",
    "    \n",
    "    \n",
    "        user_recommendation.sort_values(by= 'Estimate_score', ascending= False, inplace= True)\n",
    "        user_recommendation=user_recommendation.drop(columns=[\"Movie_Id\"], axis= 1)\n",
    "    \n",
    "        return user_recommendation.head(10)\n",
    "    \n",
    "\n",
    "    else:\n",
    "        print('Please enter a valid username ! : ')\n",
    "        \n",
    "        x= input('Do you want to go again (Y\\\\N)')\n",
    "        if x == 'Y' or x =='y':\n",
    "            return movie_recommender()\n",
    "        else:\n",
    "            print('')\n",
    "    \n",
    "   "
   ]
  },
  {
   "cell_type": "code",
   "execution_count": 104,
   "id": "f33990a7",
   "metadata": {},
   "outputs": [
    {
     "name": "stdout",
     "output_type": "stream",
     "text": [
      "Please enter a user ID to view recommendations : 44937\n"
     ]
    },
    {
     "data": {
      "text/html": [
       "<div>\n",
       "<style scoped>\n",
       "    .dataframe tbody tr th:only-of-type {\n",
       "        vertical-align: middle;\n",
       "    }\n",
       "\n",
       "    .dataframe tbody tr th {\n",
       "        vertical-align: top;\n",
       "    }\n",
       "\n",
       "    .dataframe thead th {\n",
       "        text-align: right;\n",
       "    }\n",
       "</style>\n",
       "<table border=\"1\" class=\"dataframe\">\n",
       "  <thead>\n",
       "    <tr style=\"text-align: right;\">\n",
       "      <th></th>\n",
       "      <th>Year</th>\n",
       "      <th>Name</th>\n",
       "      <th>Estimate_score</th>\n",
       "    </tr>\n",
       "  </thead>\n",
       "  <tbody>\n",
       "    <tr>\n",
       "      <th>1993</th>\n",
       "      <td>2005.0</td>\n",
       "      <td>The L Word: Season 2</td>\n",
       "      <td>4.751299</td>\n",
       "    </tr>\n",
       "    <tr>\n",
       "      <th>2584</th>\n",
       "      <td>1994.0</td>\n",
       "      <td>Absolutely Fabulous: Series 2</td>\n",
       "      <td>4.715068</td>\n",
       "    </tr>\n",
       "    <tr>\n",
       "      <th>3289</th>\n",
       "      <td>1974.0</td>\n",
       "      <td>The Godfather</td>\n",
       "      <td>4.539814</td>\n",
       "    </tr>\n",
       "    <tr>\n",
       "      <th>240</th>\n",
       "      <td>1959.0</td>\n",
       "      <td>North by Northwest</td>\n",
       "      <td>4.531103</td>\n",
       "    </tr>\n",
       "    <tr>\n",
       "      <th>962</th>\n",
       "      <td>1951.0</td>\n",
       "      <td>A Streetcar Named Desire</td>\n",
       "      <td>4.530536</td>\n",
       "    </tr>\n",
       "    <tr>\n",
       "      <th>871</th>\n",
       "      <td>1954.0</td>\n",
       "      <td>Seven Samurai</td>\n",
       "      <td>4.530181</td>\n",
       "    </tr>\n",
       "    <tr>\n",
       "      <th>4352</th>\n",
       "      <td>2002.0</td>\n",
       "      <td>Curb Your Enthusiasm: Season 3</td>\n",
       "      <td>4.525596</td>\n",
       "    </tr>\n",
       "    <tr>\n",
       "      <th>1475</th>\n",
       "      <td>2004.0</td>\n",
       "      <td>Six Feet Under: Season 4</td>\n",
       "      <td>4.522166</td>\n",
       "    </tr>\n",
       "    <tr>\n",
       "      <th>3455</th>\n",
       "      <td>2004.0</td>\n",
       "      <td>Lost: Season 1</td>\n",
       "      <td>4.508601</td>\n",
       "    </tr>\n",
       "    <tr>\n",
       "      <th>721</th>\n",
       "      <td>2003.0</td>\n",
       "      <td>The Wire: Season 1</td>\n",
       "      <td>4.505003</td>\n",
       "    </tr>\n",
       "  </tbody>\n",
       "</table>\n",
       "</div>"
      ],
      "text/plain": [
       "        Year                            Name  Estimate_score\n",
       "1993  2005.0            The L Word: Season 2        4.751299\n",
       "2584  1994.0   Absolutely Fabulous: Series 2        4.715068\n",
       "3289  1974.0                   The Godfather        4.539814\n",
       "240   1959.0              North by Northwest        4.531103\n",
       "962   1951.0        A Streetcar Named Desire        4.530536\n",
       "871   1954.0                   Seven Samurai        4.530181\n",
       "4352  2002.0  Curb Your Enthusiasm: Season 3        4.525596\n",
       "1475  2004.0        Six Feet Under: Season 4        4.522166\n",
       "3455  2004.0                  Lost: Season 1        4.508601\n",
       "721   2003.0              The Wire: Season 1        4.505003"
      ]
     },
     "execution_count": 104,
     "metadata": {},
     "output_type": "execute_result"
    }
   ],
   "source": [
    "movie_recommender()"
   ]
  },
  {
   "cell_type": "code",
   "execution_count": 106,
   "id": "5f58b489",
   "metadata": {},
   "outputs": [
    {
     "name": "stdout",
     "output_type": "stream",
     "text": [
      "Please enter a user ID to view recommendations : 26430291\n",
      "Please enter a valid username ! : \n",
      "Do you want to go again (Y\\N)y\n",
      "Please enter a user ID to view recommendations : 2643029\n"
     ]
    },
    {
     "data": {
      "text/html": [
       "<div>\n",
       "<style scoped>\n",
       "    .dataframe tbody tr th:only-of-type {\n",
       "        vertical-align: middle;\n",
       "    }\n",
       "\n",
       "    .dataframe tbody tr th {\n",
       "        vertical-align: top;\n",
       "    }\n",
       "\n",
       "    .dataframe thead th {\n",
       "        text-align: right;\n",
       "    }\n",
       "</style>\n",
       "<table border=\"1\" class=\"dataframe\">\n",
       "  <thead>\n",
       "    <tr style=\"text-align: right;\">\n",
       "      <th></th>\n",
       "      <th>Year</th>\n",
       "      <th>Name</th>\n",
       "      <th>Estimate_score</th>\n",
       "    </tr>\n",
       "  </thead>\n",
       "  <tbody>\n",
       "    <tr>\n",
       "      <th>1864</th>\n",
       "      <td>2004.0</td>\n",
       "      <td>Eternal Sunshine of the Spotless Mind</td>\n",
       "      <td>4.743912</td>\n",
       "    </tr>\n",
       "    <tr>\n",
       "      <th>2447</th>\n",
       "      <td>1991.0</td>\n",
       "      <td>Prime Suspect 1</td>\n",
       "      <td>4.663777</td>\n",
       "    </tr>\n",
       "    <tr>\n",
       "      <th>3455</th>\n",
       "      <td>2004.0</td>\n",
       "      <td>Lost: Season 1</td>\n",
       "      <td>4.645306</td>\n",
       "    </tr>\n",
       "    <tr>\n",
       "      <th>871</th>\n",
       "      <td>1954.0</td>\n",
       "      <td>Seven Samurai</td>\n",
       "      <td>4.639691</td>\n",
       "    </tr>\n",
       "    <tr>\n",
       "      <th>1475</th>\n",
       "      <td>2004.0</td>\n",
       "      <td>Six Feet Under: Season 4</td>\n",
       "      <td>4.628735</td>\n",
       "    </tr>\n",
       "    <tr>\n",
       "      <th>570</th>\n",
       "      <td>1999.0</td>\n",
       "      <td>American Beauty</td>\n",
       "      <td>4.609999</td>\n",
       "    </tr>\n",
       "    <tr>\n",
       "      <th>67</th>\n",
       "      <td>2004.0</td>\n",
       "      <td>Invader Zim</td>\n",
       "      <td>4.609538</td>\n",
       "    </tr>\n",
       "    <tr>\n",
       "      <th>404</th>\n",
       "      <td>1987.0</td>\n",
       "      <td>Wings of Desire</td>\n",
       "      <td>4.604481</td>\n",
       "    </tr>\n",
       "    <tr>\n",
       "      <th>3370</th>\n",
       "      <td>2003.0</td>\n",
       "      <td>Whale Rider</td>\n",
       "      <td>4.534835</td>\n",
       "    </tr>\n",
       "    <tr>\n",
       "      <th>240</th>\n",
       "      <td>1959.0</td>\n",
       "      <td>North by Northwest</td>\n",
       "      <td>4.515816</td>\n",
       "    </tr>\n",
       "  </tbody>\n",
       "</table>\n",
       "</div>"
      ],
      "text/plain": [
       "        Year                                   Name  Estimate_score\n",
       "1864  2004.0  Eternal Sunshine of the Spotless Mind        4.743912\n",
       "2447  1991.0                        Prime Suspect 1        4.663777\n",
       "3455  2004.0                         Lost: Season 1        4.645306\n",
       "871   1954.0                          Seven Samurai        4.639691\n",
       "1475  2004.0               Six Feet Under: Season 4        4.628735\n",
       "570   1999.0                        American Beauty        4.609999\n",
       "67    2004.0                            Invader Zim        4.609538\n",
       "404   1987.0                        Wings of Desire        4.604481\n",
       "3370  2003.0                            Whale Rider        4.534835\n",
       "240   1959.0                     North by Northwest        4.515816"
      ]
     },
     "execution_count": 106,
     "metadata": {},
     "output_type": "execute_result"
    }
   ],
   "source": [
    "movie_recommender()"
   ]
  }
 ],
 "metadata": {
  "kernelspec": {
   "display_name": "Python 3 (ipykernel)",
   "language": "python",
   "name": "python3"
  },
  "language_info": {
   "codemirror_mode": {
    "name": "ipython",
    "version": 3
   },
   "file_extension": ".py",
   "mimetype": "text/x-python",
   "name": "python",
   "nbconvert_exporter": "python",
   "pygments_lexer": "ipython3",
   "version": "3.11.4"
  }
 },
 "nbformat": 4,
 "nbformat_minor": 5
}
